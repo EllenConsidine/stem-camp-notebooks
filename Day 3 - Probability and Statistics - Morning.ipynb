{
 "cells": [
  {
   "cell_type": "markdown",
   "metadata": {},
   "source": [
    "# Introduction to Probability and Statistics!"
   ]
  },
  {
   "cell_type": "markdown",
   "metadata": {},
   "source": [
    "In this lab we will introduce you to some basic probability and statistics concepts. You may have heard of many of the terms we plan to go over today but if not, do not fret. Hopefully by the end of this session you will all leave here feeling like statistics superstars!"
   ]
  },
  {
   "cell_type": "markdown",
   "metadata": {},
   "source": [
    "# 1.1 Mean, Variance, and Standard Deviation"
   ]
  },
  {
   "cell_type": "markdown",
   "metadata": {},
   "source": [
    "TODO: data8 Lab 5 may be helpful here! Just got over the basic intuition of what the mean and std. dev. are, maybe with some plots. Tie in the connection to variance and how they together help to distinguish rare and expected values."
   ]
  },
  {
   "cell_type": "markdown",
   "metadata": {},
   "source": [
    "# 1.2 Probability"
   ]
  },
  {
   "cell_type": "markdown",
   "metadata": {},
   "source": [
    "# 1.2.1 Drawing cards from a Deck"
   ]
  },
  {
   "cell_type": "markdown",
   "metadata": {},
   "source": [
    "TODO: Draw connections with mean and standard deviation to deduce probability of seeing an event. For this section I think it suffices to only talk about the probability of seeing a specific card from a deck draw. This would be a good segway for them the practice their python on drawing a card from a deck. The python file is named the randomCardGenerator.py. I would include some of the code with '...' as in data8 and allow the students to fill in the blanks. Have them generate a histogram of the probability of seeing each card (or only a subset). Mention that the probability should be uniform, etc."
   ]
  },
  {
   "cell_type": "markdown",
   "metadata": {},
   "source": [
    "# 1.2.2 The Gaussian Distribution"
   ]
  },
  {
   "cell_type": "markdown",
   "metadata": {},
   "source": [
    "TODO: Include info on Gaussian Distribution and relate mean and standard deviation. Last year we also mentioned Poisson and Binomial; however, these seemed to go over most students heads. If you'd like, you can include binomial and poisson as a bonus for those students who are more advance, but I would personally include them as stand alone sections that the presenter wouldn't have to go through. There are equations and examples already in the Distributions.ipynb found in /notebooks/machine_learning/Naive_Bayes."
   ]
  },
  {
   "cell_type": "markdown",
   "metadata": {},
   "source": [
    "# 1.3 Rare Events and Sampling"
   ]
  },
  {
   "cell_type": "markdown",
   "metadata": {},
   "source": [
    "TODO: I would include the Gaussian image from /notebooks/machine_learning/Naive_Bayes/Distributions that shows a Gaussian with standard deviations. Have the students then play with the random number generator and plot a histogram of the results. They can then calculate the mean and standard deviations. I would recommend writing the code in a \"fill in the blanks\" format to not confuse students too much. Have them play with different means and standard devations to get a feel for the process. Also, suggest they talk to friends."
   ]
  },
  {
   "cell_type": "code",
   "execution_count": null,
   "metadata": {},
   "outputs": [],
   "source": []
  }
 ],
 "metadata": {
  "kernelspec": {
   "display_name": "Python 3",
   "language": "python",
   "name": "python3"
  },
  "language_info": {
   "codemirror_mode": {
    "name": "ipython",
    "version": 2
   },
   "file_extension": ".py",
   "mimetype": "text/x-python",
   "name": "python",
   "nbconvert_exporter": "python",
   "pygments_lexer": "ipython2",
   "version": "2.7.14"
  }
 },
 "nbformat": 4,
 "nbformat_minor": 2
}
