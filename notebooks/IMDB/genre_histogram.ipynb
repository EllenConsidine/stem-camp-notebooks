{
 "cells": [
  {
   "cell_type": "code",
   "execution_count": null,
   "metadata": {},
   "outputs": [],
   "source": [
    "import os\n",
    "import numpy as np\n",
    "import pandas as pd\n",
    "import itertools\n",
    "import matplotlib.pyplot as plt\n",
    "%matplotlib inline\n",
    "import mpld3\n",
    "mpld3.enable_notebook()\n",
    "import imdb_data_helper"
   ]
  },
  {
   "cell_type": "code",
   "execution_count": null,
   "metadata": {},
   "outputs": [],
   "source": [
    "# Data downloaded from https://www.imdb.com/interfaces/ and cleaned slightly\n",
    "if not imdb_data_helper.have_title_basics():\n",
    "    imdb_data_helper.download_title_basics()\n",
    "if not imdb_data_helper.have_title_ratings():\n",
    "    imdb_data_helper.download_title_ratings()"
   ]
  },
  {
   "cell_type": "code",
   "execution_count": null,
   "metadata": {},
   "outputs": [],
   "source": [
    "title_basics = imdb_data_helper.get_title_basics()\n",
    "title_ratings = imdb_data_helper.get_title_ratings()"
   ]
  },
  {
   "cell_type": "code",
   "execution_count": null,
   "metadata": {},
   "outputs": [],
   "source": [
    "title_basics[title_basics['primaryTitle'].str.contains('Jurassic World', na=False)]"
   ]
  },
  {
   "cell_type": "code",
   "execution_count": null,
   "metadata": {},
   "outputs": [],
   "source": [
    "all_genres = set()\n",
    "def genres_list():\n",
    "    for genres in title_basics['genres']:\n",
    "        if type(genres) is str:\n",
    "            yield genres.split(',')\n",
    "        \n",
    "for genres in genres_list():\n",
    "    all_genres.update(set(genres))\n",
    "\n",
    "all_genres"
   ]
  },
  {
   "cell_type": "code",
   "execution_count": null,
   "metadata": {
    "scrolled": false
   },
   "outputs": [],
   "source": [
    "def make_histogram_for_genre(target_genre):\n",
    "    title_basics_for_genre = title_basics[title_basics['genres'].str.contains(target_genre, na=False)]\n",
    "    genre_ratings = title_ratings['averageRating'].reindex(title_basics_for_genre.index)\n",
    "    genre_ratings = genre_ratings.dropna()\n",
    "    \n",
    "    #TODO: compute the mean and median rating (np.mean; np.median)\n",
    "    #TODO: plot vertical lines denoting the mean and median\n",
    "    #      using plt.axvline (use optional parameter color='r', color='g')\n",
    "    \n",
    "    plt.figure()\n",
    "    bins = np.arange(-0.05, 10.05, 0.1)\n",
    "    n, bins, _ = plt.hist(genre_ratings, bins=bins, density=True)\n",
    "    plt.xlabel('Average Rating')\n",
    "    plt.title(\"Average Ratings for genre='{target_genre}'\".format(target_genre=target_genre))\n",
    "\n",
    "make_histogram_for_genre('Sci-Fi')\n",
    "make_histogram_for_genre('Western')"
   ]
  },
  {
   "cell_type": "markdown",
   "metadata": {},
   "source": [
    "Q: Are there any \"outliers\" that you can see in any of the histograms?"
   ]
  },
  {
   "cell_type": "markdown",
   "metadata": {
    "scrolled": true
   },
   "source": [
    "Q: Which genre has the highest mean rating?  Which has the lowest mean rating?"
   ]
  }
 ],
 "metadata": {
  "kernelspec": {
   "display_name": "Python 3",
   "language": "python",
   "name": "python3"
  },
  "language_info": {
   "codemirror_mode": {
    "name": "ipython",
    "version": 3
   },
   "file_extension": ".py",
   "mimetype": "text/x-python",
   "name": "python",
   "nbconvert_exporter": "python",
   "pygments_lexer": "ipython3",
   "version": "3.7.3"
  }
 },
 "nbformat": 4,
 "nbformat_minor": 2
}
