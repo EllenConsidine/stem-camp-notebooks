{
 "cells": [
  {
   "cell_type": "markdown",
   "metadata": {},
   "source": [
    "# Probabilites and Classification"
   ]
  },
  {
   "cell_type": "markdown",
   "metadata": {},
   "source": [
    "# 1 Fun with Probabilities"
   ]
  },
  {
   "cell_type": "markdown",
   "metadata": {},
   "source": [
    "1.1 Bayes Law and the Monte Hall Problem"
   ]
  },
  {
   "cell_type": "markdown",
   "metadata": {},
   "source": [
    "TODO: DO NOT go through the nitty gritty details of Naive Bayes and Bayes law. We noticed that many students were confused by the equations. Derek and I (Jessica) derived the probability of switching doors and not only did we fumble with the calculation, but the students were clearly lost. Therefore I suggest we talk about the concept and problem here and give some intuition. The idea is to introduce them to a new concept and make probability fun for them. The Naive_Bayes script may be useful here. We used the Computer Science department's script; however, we did not ask ahead of time so I suggest we rewrite most of it ourselves. "
   ]
  },
  {
   "cell_type": "markdown",
   "metadata": {},
   "source": [
    "1.2 Shapes and Colors"
   ]
  },
  {
   "cell_type": "markdown",
   "metadata": {},
   "source": [
    "TODO: Use Naive_Bayes.py script idea to finding probability of finding a shape versus a color from a group of objects. This should be a discussion with students answering questions out loud, but the concepts should be introduced in this script. It should tie in nicely to classification"
   ]
  },
  {
   "cell_type": "markdown",
   "metadata": {},
   "source": [
    "# 2 Classification"
   ]
  },
  {
   "cell_type": "markdown",
   "metadata": {},
   "source": [
    "TODO: Reuse the beginning part of the Intro to Classification script but perhaps make it a bit more interactive. There is a lot of freedom here. "
   ]
  },
  {
   "cell_type": "code",
   "execution_count": null,
   "metadata": {},
   "outputs": [],
   "source": []
  }
 ],
 "metadata": {
  "kernelspec": {
   "display_name": "Python 3",
   "language": "python",
   "name": "python3"
  },
  "language_info": {
   "codemirror_mode": {
    "name": "ipython",
    "version": 2
   },
   "file_extension": ".py",
   "mimetype": "text/x-python",
   "name": "python",
   "nbconvert_exporter": "python",
   "pygments_lexer": "ipython2",
   "version": "2.7.14"
  }
 },
 "nbformat": 4,
 "nbformat_minor": 2
}
