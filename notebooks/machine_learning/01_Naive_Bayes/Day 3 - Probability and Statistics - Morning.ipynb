{
 "cells": [
  {
   "cell_type": "markdown",
   "metadata": {},
   "source": [
    "# Introduction to Probability and Statistics!"
   ]
  },
  {
   "cell_type": "markdown",
   "metadata": {},
   "source": [
    "In this lab we will introduce you to some basic probability and statistics concepts. You may have heard of many of the terms we plan to go over today but if not, do not fret. Hopefully by the end of this session you will all leave here feeling like stats masters!\n",
    "<br> <br> <br>\n",
    "By the end of this section, hopefully you will be able to answer the following questions with confidence: \n",
    "<br>\n",
    "<br>\n",
    "1) What is the mean, standard deviation, and variance of a collection of data? \n",
    "<br>\n",
    "2) How do these concepts help me interpret and better understand the data I'm given?\n",
    "\n",
    "Technical note: this notebook was written in python2 and then converted to python3. See [differences between python2 and python3](http://sebastianraschka.com/Articles/2014_python_2_3_key_diff.html#the-print-function)"
   ]
  },
  {
   "cell_type": "markdown",
   "metadata": {},
   "source": [
    "# 1.1 Mean, Variance, and Standard Deviation"
   ]
  },
  {
   "cell_type": "markdown",
   "metadata": {},
   "source": [
    "First off, you all may have heard of the mean value of a set of data, but if not, the \"mean\" is simply the average. Suppose you're given the following values:\n",
    "\n",
    "$$ 5,3,7,4,2 $$\n",
    "\n",
    "What is their average? We can compute this by hand:\n",
    "\n",
    "$$ \\frac{1}{5} \\left( 5 + 3 + 7 + 4 + 2 \\right)  = \\frac{21}{5} = 4.2$$\n",
    "\n",
    "This is fine while we have a small set of values, but what if we heard thousands of values, or even hundreds of thousands? This is where computers can be very handy. \n",
    "\n",
    "Note: the concept of a \"middle value\" is often better done with the [median](https://en.wikipedia.org/wiki/Median), which is the number such that half of the data set is above, and half is below. The median is more *robust* than the mean -- for example, if you were typing $ 5,3,7,4,2 $ into your computer, but forgot a comma and typed $ 5,3,7,42 $ instead, the mean of $ 5,3,7,42 $ is $14.25$, which is very different than $4.2$.  However, the median of $ 5,3,7,42 $ is 6, which is close to 4 (the median of $ 5,3,7,4,2 $).  For example, to get a sense of \"typical\" housing prices, median housing price is used instead of mean housing price, otherwise a single \\$10 million mansion will skew the whole dataset.\n",
    "\n",
    "<br> <br>\n",
    "Before we get into the coding part of the lesson, let's look at these values on a number line and get some intuition for what the mean value represents."
   ]
  },
  {
   "cell_type": "code",
   "execution_count": 1,
   "metadata": {},
   "outputs": [
    {
     "data": {
      "text/plain": [
       "<matplotlib.legend.Legend at 0x10cb4ffd0>"
      ]
     },
     "execution_count": 1,
     "metadata": {},
     "output_type": "execute_result"
    }
   ],
   "source": [
    "import matplotlib.pyplot as plt\n",
    "plt.style.use('seaborn-whitegrid')\n",
    "import numpy as np\n",
    "\n",
    "fig = plt.figure()\n",
    "ax = plt.axes()\n",
    "\n",
    "x = np.array((5,3,7,4,2))\n",
    "ax.scatter(x,np.zeros(len(x)), s=75, label = 'Values')\n",
    "ax.scatter(4.2,0, s=75, label = 'Mean')\n",
    "ax.legend()"
   ]
  },
  {
   "cell_type": "markdown",
   "metadata": {},
   "source": [
    "Now let's generate some random numbers and calculate their means. I know this may seem tedious but the code will be useful later!"
   ]
  },
  {
   "cell_type": "code",
   "execution_count": 2,
   "metadata": {},
   "outputs": [
    {
     "name": "stdout",
     "output_type": "stream",
     "text": [
      "6\n",
      "39\n",
      "85\n",
      "82\n",
      "43\n",
      "80\n",
      "34\n",
      "65\n",
      "33\n",
      "28\n"
     ]
    }
   ],
   "source": [
    "import random as rnd\n",
    "\n",
    "for x in range(10):\n",
    "    print(rnd.randint(1,101)) # rnd.randint(start,end) returns an integer value between values start and end"
   ]
  },
  {
   "cell_type": "code",
   "execution_count": 3,
   "metadata": {},
   "outputs": [
    {
     "name": "stdout",
     "output_type": "stream",
     "text": [
      "0.7326917536472771\n",
      "0.5275386758193615\n",
      "0.6659680617111885\n",
      "0.9398516215641116\n",
      "0.9782273230881454\n",
      "0.9725016747624957\n",
      "0.24271490208986712\n",
      "0.5413078255192515\n",
      "0.13667855930175188\n",
      "0.4841995729213626\n"
     ]
    }
   ],
   "source": [
    "for x in range(10):\n",
    "    print(rnd.random()) # rnd.random() returns a pseudo-random value between 0.0 and 1.0"
   ]
  },
  {
   "cell_type": "code",
   "execution_count": null,
   "metadata": {},
   "outputs": [],
   "source": [
    "# Fill in the following code to compute the mean of a set of randomly generated numbers\n",
    "\n",
    "num_values = 0 # change to reflect number of values\n",
    "current_total = 0.0 # keep track of current total\n",
    "\n",
    "for x in range(num_values):\n",
    "    # generate random number (either integer or decimal between 0 and 1) and store it in the variable named val\n",
    "    # keep a running sum of the values\n",
    "    print(val)\n",
    "\n",
    "print(\"The average values is \",...)  # the mean"
   ]
  },
  {
   "cell_type": "code",
   "execution_count": null,
   "metadata": {},
   "outputs": [],
   "source": [
    "# If we'd like to plot our values and their corresponding means we would need to store the generated values. \n",
    "# Rewrite the code above to store the values as they are generated. Instead of keeping a running sum, use\n",
    "# numpy's \"sum\" function to calculate the mean after the loop!\n",
    "\n",
    "# Code goes here"
   ]
  },
  {
   "cell_type": "markdown",
   "metadata": {},
   "source": [
    "Using the provided code above, can you plot the generated values with their mean?"
   ]
  },
  {
   "cell_type": "code",
   "execution_count": null,
   "metadata": {},
   "outputs": [],
   "source": [
    "# Plot code goes here!"
   ]
  },
  {
   "cell_type": "markdown",
   "metadata": {},
   "source": [
    "Now that we've got a better understanding for the mean, what about the standard deviation and variance?\n",
    "<br>  <br>\n",
    "Intuitively, the standard deviation is a measure of spread of the data. \n",
    "<br>\n",
    "Suppose we have a 3-ft ruler that we'd like to measure a friend's height with. Let's also assume that the person of interest is taller than 3 feet and WE ONLY HAVE ONE RULER. Therefore, we need to be creative as to how we measure our friend. We could use a 3-ft long string as a placeholder and place the ruler tip-to-tail to measure the remaining distance. As you could imagine, our measurements would be slightly off. However, it's reasonable to think that if we took many measurements, that the mean measurement would be pretty close to the true height! In this case, the standard deviation would be a measure of the \"spread\" of all our (potentially) inaccurate measurements around the average (or mean) height. \n",
    "<br> <br> \n",
    "Using the standard deviation, we can get an idea for the interval for which a majority of our measurements lie. If we plotted our data on a number line as before and included the mean, we would see that 68% of our measurements fall within one standard deviation (on either side) of the mean! \n",
    "\n",
    "<br> <br>\n",
    "Finally, the variance is simply the square of the standard deviation!\n",
    "$$ std \\ dev = \\sqrt{var} $$"
   ]
  },
  {
   "cell_type": "code",
   "execution_count": null,
   "metadata": {},
   "outputs": [],
   "source": [
    "fig = plt.figure()\n",
    "ax = plt.axes()\n",
    "\n",
    "x = np.array((5,3,7,4,2))\n",
    "ax.scatter(x,np.zeros(len(x)), s=75, label = 'Values')\n",
    "ax.scatter(4.2,0, s=75, label = 'Mean')\n",
    "std = np.std(x)\n",
    "x_ticks = np.append([1,3,4,5,7], [4.2-std,4.2+std])\n",
    "\n",
    "plt.axvline(x=4.2-std,color='m')\n",
    "plt.axvline(x=4.2+std,color='m')\n",
    "ax.legend()\n",
    "ax.set_xticks(x_ticks)\n",
    "fig.suptitle('One Standard Deviation',fontsize=30)"
   ]
  },
  {
   "cell_type": "code",
   "execution_count": null,
   "metadata": {},
   "outputs": [],
   "source": [
    "fig = plt.figure()\n",
    "ax = plt.axes()\n",
    "\n",
    "x = np.array((5,3,7,4,2))\n",
    "ax.scatter(x,np.zeros(len(x)), s=75, label = 'Values')\n",
    "ax.scatter(4.2,0, s=75, label = 'Mean')\n",
    "std = np.std(x)\n",
    "x_ticks = np.append([1,3,4,5,7], [4.2-2*std,4.2+2*std])\n",
    "\n",
    "plt.axvline(x=4.2-2*std,color='m')\n",
    "plt.axvline(x=4.2+2*std,color='m')\n",
    "ax.legend()\n",
    "ax.set_xticks(x_ticks)\n",
    "fig.suptitle('Two Standard Deviations',fontsize=30)"
   ]
  },
  {
   "cell_type": "code",
   "execution_count": null,
   "metadata": {},
   "outputs": [],
   "source": [
    "fig = plt.figure()\n",
    "ax = plt.axes()\n",
    "\n",
    "x = np.array((5,3,7,4,2))\n",
    "ax.scatter(x,np.zeros(len(x)), s=75, label = 'Values')\n",
    "ax.scatter(4.2,0, s=75, label = 'Mean')\n",
    "std = np.std(x)\n",
    "x_ticks = np.append([1,3,4,5,7], [4.2-3*std,4.2+3*std])\n",
    "\n",
    "plt.axvline(x=4.2-3*std,color='m')\n",
    "plt.axvline(x=4.2+3*std,color='m')\n",
    "ax.legend()\n",
    "ax.set_xticks(x_ticks)\n",
    "fig.suptitle('Three Standard Deviations',fontsize=30)"
   ]
  },
  {
   "cell_type": "code",
   "execution_count": 5,
   "metadata": {},
   "outputs": [
    {
     "data": {
      "text/html": [
       "<img src=\"https://amp.businessinsider.com/images/546e68776bb3f74f68b7d0ba-750-544.jpg\"/>"
      ],
      "text/plain": [
       "<IPython.core.display.Image object>"
      ]
     },
     "execution_count": 5,
     "metadata": {},
     "output_type": "execute_result"
    }
   ],
   "source": [
    "from IPython.display import Image\n",
    "Image(url = 'https://amp.businessinsider.com/images/546e68776bb3f74f68b7d0ba-750-544.jpg')"
   ]
  },
  {
   "cell_type": "code",
   "execution_count": null,
   "metadata": {},
   "outputs": [],
   "source": [
    "# Let's simulate this on our own!\n",
    "num_draws = 10 # enter number of measurements to take\n",
    "true_height, std_dev = 160, 1 # play around with changing the standard deviation. Do your results make sense?\n",
    "\n",
    "height_msr = np.random.normal(true_height, std_dev,num_draws)                      "
   ]
  },
  {
   "cell_type": "code",
   "execution_count": null,
   "metadata": {},
   "outputs": [],
   "source": [
    "fig = plt.figure()\n",
    "ax = plt.axes()\n",
    "\n",
    "plt.hist(height_msr)\n",
    "x_ticks = np.append(ax.get_xticks(), true_height)\n",
    "\n",
    "plt.axvline(x=true_height,color='m')\n",
    "ax.legend()\n",
    "ax.set_xticks(x_ticks)\n",
    "fig.suptitle('Simulated Height Measurements',fontsize=30)\n",
    "plt.ylabel('Number of Measurements',fontsize = 15)\n",
    "plt.xlabel('Measured Height (cm)',fontsize = 15)"
   ]
  },
  {
   "cell_type": "markdown",
   "metadata": {},
   "source": [
    "# 1.2 Probability"
   ]
  },
  {
   "cell_type": "markdown",
   "metadata": {},
   "source": [
    "Khan Academy says it the best: <br>\n",
    "\n",
    "\"Probability is simply how likely something is to happen. <br><br>\n",
    "Whenever we're unsure about the outsome of an event, we can talk about the probabilities of certain outcomes - how likely they are. The analysis of events governed by probability is called statistics.\" "
   ]
  },
  {
   "cell_type": "markdown",
   "metadata": {},
   "source": [
    "# 1.2.1 Flipping a Coin"
   ]
  },
  {
   "cell_type": "markdown",
   "metadata": {},
   "source": [
    "The best example for understanding probability is flipping a coin.\n",
    "\n",
    "There are two possible outcomes - heads or tails.\n",
    "\n",
    "What's the probability of the coin landing on heads? We can find out using the equation $$P(H) = ? $$ \n",
    "You may already know the likelihood is 50% (assuming a fair coin). But how do we work that out?\n",
    "\n",
    "$$ P(Event) = \\frac{\\text{number of ways it can happen}}{\\text{total number of outcomes}} $$\n",
    "\n",
    "In the case of flipping a coin, $P(H) = \\frac{1}{2}$. <br><br>\n",
    "\n",
    "Let's test this by simulation!"
   ]
  },
  {
   "cell_type": "code",
   "execution_count": null,
   "metadata": {},
   "outputs": [],
   "source": [
    "# In this cell we will write a block of code to simulate flipping a coin and plotting the results.\n",
    "p = ... # pick probability of getting heads\n",
    "n = ... # pick number of trials\n",
    "outcome = [] # empty container to store the results\n",
    "\n",
    "for i in range(n):\n",
    "    # generate a number between 0 and 1 (Hint: we used a built-in function before that can help us with this)\n",
    "    result = ...\n",
    "    if result <= p:\n",
    "        outcome.append(1)\n",
    "    else:\n",
    "        outcome.append(0)\n",
    "   \n",
    "fig = plt.figure()\n",
    "plt.hist(outcome)\n",
    "fig.suptitle('Flipping a Coin, Heads = 1, Tails = 0',fontsize=20)"
   ]
  },
  {
   "cell_type": "markdown",
   "metadata": {},
   "source": [
    "# 1.2.2 Drawing cards from a Deck"
   ]
  },
  {
   "cell_type": "code",
   "execution_count": 6,
   "metadata": {},
   "outputs": [
    {
     "data": {
      "text/html": [
       "<img src=\"http://www.milefoot.com/math/discrete/counting/images/cards.png\"/>"
      ],
      "text/plain": [
       "<IPython.core.display.Image object>"
      ]
     },
     "execution_count": 6,
     "metadata": {},
     "output_type": "execute_result"
    }
   ],
   "source": [
    "Image(url='http://www.milefoot.com/math/discrete/counting/images/cards.png')"
   ]
  },
  {
   "cell_type": "markdown",
   "metadata": {},
   "source": [
    "The primary deck of 52 playing cards in use today includes thirteen ranks of each of the four Franch suits, diamonds (♦), spades (♠), hearts (♥) and clubs (♣), with reversible Rouennais \"court\" or face cards. <br> \n",
    "\n",
    "Each suit includes an ace, a king, a queen, a jack, and ranks two through ten, with each card depicting that many symbols of its suit. \n",
    "<br>\n",
    "\n",
    "Two (sometimes one or four) Jokers are included in commercial decks but many games require them to be removed before play. For simplicity, we will also assume there the Jokers of our deck have been removed.\n",
    "<br>\n",
    "\n",
    "Going back to our definition of probability\n",
    "$$ P(Event) = \\frac{\\text{number of ways it can happen}}{\\text{total number of outcomes}}, $$\n",
    "what is the probability of drawing an ace?\n",
    "<br> <br>\n",
    "$$ P(ace) = \\frac{\\text{number of aces}}{\\text{total playing cards}} = \\frac{4}{52} = \\frac{1}{13}. $$\n",
    "\n",
    "Similarly, we could compute the probability of NOT drawing an ace\n",
    "$$ P(not \\ ace) = \\frac{\\text{number of non-ace cards}}{\\text{total playing cards}} = \\frac{48}{52} = \\frac{12}{13}. $$\n",
    "\n",
    "\n",
    "$$ P(not \\ ace) = \\frac{52}{52} - \\frac{\\text{number of aces}}{\\text{total playing cards}} = \\frac{48}{52} = \\frac{12}{13}. $$\n",
    "\n",
    "<br> <br>\n",
    "Notice that $P(ace) + P(not \\ ace) = 1$. That is, the probability of either drawing an ace from a deck of cards or not drawing an ace is 100%!"
   ]
  },
  {
   "cell_type": "code",
   "execution_count": 7,
   "metadata": {},
   "outputs": [
    {
     "name": "stdout",
     "output_type": "stream",
     "text": [
      "Queen Diamonds Red\n"
     ]
    }
   ],
   "source": [
    "# The code below to takes a random draw from a deck of cards\n",
    "\n",
    "# Define the special face cards, suits and color\n",
    "faces = {11: \"Jack\", 12: \"Queen\", 13: \"King\", 1: \"Ace\"}\n",
    "suits = {1: \"Spades\", 2: \"Hearts\", 3: \"Diamonds\", 4: \"Clubs\"}\n",
    "colors = {\"Spades\" : \"Black\", \"Clubs\" : \"Black\", \"Diamonds\" : \"Red\", \"Hearts\" : \"Red\"}\n",
    "\n",
    "# Draw a random integer value. Card_num can be any of the 13 cards to choose from and suits picks a random suit\n",
    "card_num = rnd.randint(1,13)\n",
    "suit_num = rnd.randint(1,4)\n",
    "\n",
    "# Get the card face, suit and corresponding color\n",
    "card_face = faces.get(card_num,card_num)\n",
    "card_suit = suits[suit_num]\n",
    "card_color = colors.get(card_suit)\n",
    "\n",
    "print(card_face, card_suit, card_color)"
   ]
  },
  {
   "cell_type": "code",
   "execution_count": 8,
   "metadata": {},
   "outputs": [
    {
     "name": "stdout",
     "output_type": "stream",
     "text": [
      "[['King', 'Diamonds', 1], [3, 'Clubs', 1], ['Queen', 'Spades', 1], [5, 'Hearts', 1], ['Ace', 'Spades', 1], [8, 'Diamonds', 1], [2, 'Clubs', 1], [3, 'Diamonds', 1], ['King', 'Hearts', 1], [8, 'Spades', 1]]\n"
     ]
    }
   ],
   "source": [
    "num_draws = 10 # Can change number of draws but slow (on personal computer)\n",
    "i = 0\n",
    "cards = []\n",
    "\n",
    "while i < num_draws:\n",
    "    # Draw a random integer value. Card_num can be any of the 13 cards to choose from and suits picks a random suit\n",
    "    card_num = rnd.randint(1,13)\n",
    "    suit_num = rnd.randint(1,4)\n",
    "\n",
    "    # Get the card face, suit and corresponding color\n",
    "    card_face = faces.get(card_num,card_num)\n",
    "    card_suit = suits[suit_num]\n",
    "    \n",
    "    cards.append([card_face,card_suit,1])\n",
    "    i = i+1\n",
    "    \n",
    "    # remove duplicates (assuming we are using only one deck)\n",
    "    ''' for j in range(i-1):\n",
    "            if cards[j][0] == cards[i-1][0]:\n",
    "                if cards[j][1] == cards[i-1][1]:\n",
    "                    cards.remove(cards[i-1])\n",
    "                    i = i-1\n",
    "                    '''\n",
    "    \n",
    "    # Note: Won't remove duplicates so that we see probability of drawing a specific card\n",
    "    # Instead, count number of occurences\n",
    "    for j in range(i-1):\n",
    "        if cards[j][0] == cards[i-1][0]:\n",
    "            if cards[j][1] == cards[i-1][1]:\n",
    "                cards[j][2] = cards[j][2] + 1\n",
    "                cards.remove(cards[i-1])\n",
    "                i = i-1        \n",
    "\n",
    "print(cards)"
   ]
  },
  {
   "cell_type": "code",
   "execution_count": 113,
   "metadata": {},
   "outputs": [
    {
     "name": "stdout",
     "output_type": "stream",
     "text": [
      "Empirical probabilities:\n",
      "Four of a kind:  0.0200 (true probability is 0.0240)\n",
      "Full house:      0.1440 (true probability is 0.1441)\n",
      "Three of a kind: 2.1680 (true probability is 2.1128)\n",
      "Two pair:        4.7980 (true probability is 4.7539)\n"
     ]
    }
   ],
   "source": [
    "# Another way to draw, should be faster\n",
    "FullDeck = np.array( range(4*13) )\n",
    "#print( FullDeck )\n",
    "#print( (FullDeck // 4)+1 ) # The ranks\n",
    "#print( (FullDeck % 4) + 1 ) # The suits\n",
    "\n",
    "ranks = {2:\"2\",3:\"3\",4:\"4\",5:\"5\",6:\"6\",7:\"7\",8:\"8\",9:\"9\",10:\"10\",11: \"Jack\", 12: \"Queen\", 13: \"King\", 1: \"Ace\"}\n",
    "suits = {1: \"Spades\", 2: \"Hearts\", 3: \"Diamonds\", 4: \"Clubs\"}\n",
    "\n",
    "# Take a random draw, without replacement. How do we do without replacement efficiently? Shuffle.\n",
    "nHands = round(1e5)\n",
    "fourOfAKind = 0\n",
    "fullHouse   = 0\n",
    "threeOfAKind= 0\n",
    "twoPair     = 0\n",
    "for i in range(nHands):\n",
    "    y = FullDeck.copy()\n",
    "    np.random.shuffle(y)\n",
    "    y = y[:5]  # a five-card hand\n",
    "    #print( y )\n",
    "    \n",
    "    ranksList = ( y//4 ) + 1\n",
    "    suitsList = ( y%4  ) + 1\n",
    "    \n",
    "    # Sanity check:\n",
    "    if nHands <= 2 :\n",
    "        print(\">> Hand\",i+1)\n",
    "        for j in range(5):\n",
    "            rk = ranks[ ranksList[j] ]\n",
    "            st = suits[ suitsList[j] ]\n",
    "            print(\"Card is\", rk, \"of\", st)\n",
    "            \n",
    "    # Now, suppose we want to check for how often we get three of a kind. The suit is irrelevant\n",
    "    # (slight non-issue: you might worry that we do NOT want to count \"better\" hands, so what about flushes?\n",
    "    #  A 3-of-a-kind flush is impossible! Same for the others, except straights)\n",
    "    #print( ranksList )\n",
    "    unique, unique_counts = np.unique( ranksList, return_counts=True )\n",
    "    #print( unique )\n",
    "    #print( unique_counts )\n",
    "    ln = len( unique )\n",
    "    mx = max( unique_counts )\n",
    "    if ln == 2:\n",
    "        # it could be (A,B,B,B,B) or (A,A,B,B,B) or (A,A,A,B,B) or (A,A,A,A,B)\n",
    "        # so either way, it's a four-of-a-kind, or a full-house\n",
    "        if mx == 4:\n",
    "            fourOfAKind = fourOfAKind + 1\n",
    "        elif mx == 3:\n",
    "            fullHouse = fullHouse + 1\n",
    "        else:\n",
    "            print(\"This should not happen!\")\n",
    "    elif ln == 3:\n",
    "        # it could be two pair, or three-of-a-kind\n",
    "        if mx == 3:\n",
    "            threeOfAKind = threeOfAKind + 1\n",
    "        elif mx == 2:\n",
    "            twoPair = twoPair + 1\n",
    "        else:\n",
    "            print(\"This should not happen! Someone made a mistake\")\n",
    "# We can find the true answers here: https://en.wikipedia.org/wiki/Poker_probability\n",
    "# For formatted output, see https://www.python-course.eu/python3_formatted_output.php\n",
    "print(\"Empirical probabilities:\")\n",
    "print(\"Four of a kind:  {0:.4f} (true probability is {1:.4f})\".format(fourOfAKind/nHands*100,0.0240))\n",
    "print(\"Full house:      {0:.4f} (true probability is {1:.4f})\".format(fullHouse/nHands*100,0.1441))\n",
    "print(\"Three of a kind: {0:.4f} (true probability is {1:.4f})\".format(threeOfAKind/nHands*100,2.1128))\n",
    "print(\"Two pair:        {0:.4f} (true probability is {1:.4f})\".format(twoPair/nHands*100,4.7539))"
   ]
  },
  {
   "cell_type": "markdown",
   "metadata": {},
   "source": [
    "# 1.3 Independence, Correlation and Causation"
   ]
  },
  {
   "cell_type": "markdown",
   "metadata": {},
   "source": [
    "Informally, we say that two variables are **independent** if they have nothing to do with each other. For example, if x is the number of fish caught in the Pacific Ocean last year, and y is the number of videos on youtube last year, then x and y are independent variables.\n",
    "\n",
    "If variables are not independent, we call them **dependent**.  If two variables are **correlated**, then they are dependent (and almost vice-versa: if they are dependent, then are often, but not always correlated. Phrased another way, if variables are uncorrelated, then in some cases, such as for Gaussian variables, they are independent).\n",
    "\n",
    "Positive correlation means that if variable x is high (above its mean), then variable y is likely to be high too; and if x is low, then y is likely to be low too.  Correlation is symmetric in the two variables.\n",
    "\n",
    "Negative correlation means that if x is high, then y is likely to be low, and vice-versa.\n",
    "\n",
    "**Causation** is the idea that one variable controls the other. For example, the amount of money I spend on ice cream is correlated with the amount of money I earn from my job, but the causation is one-way (not symmetric). That is, if I earn more or less money from my job, I have more or less money to spend on ice cream.  But if I eat more ice cream, that does *not* mean that I will earn more money.\n",
    "\n",
    "The false idea that \"correlation means causation\" is one of the biggest fallacies in science, and in machine learning as well.\n",
    "\n",
    "Independence must be taken into account when doing things like surveys. For example, suppose I want to find out what percentage of people in the US are literate. I can send out a survey to everyone's house, ask if they are literate or not, and record the results. Of course, my results will tell me that 100\\% of people are literate, because my survey suffers from extreme **selection-bias**: a very particular type of people are more likely to respond to the survey."
   ]
  }
 ],
 "metadata": {
  "kernelspec": {
   "display_name": "Python 3",
   "language": "python",
   "name": "python3"
  },
  "language_info": {
   "codemirror_mode": {
    "name": "ipython",
    "version": 3
   },
   "file_extension": ".py",
   "mimetype": "text/x-python",
   "name": "python",
   "nbconvert_exporter": "python",
   "pygments_lexer": "ipython3",
   "version": "3.7.0"
  }
 },
 "nbformat": 4,
 "nbformat_minor": 2
}
