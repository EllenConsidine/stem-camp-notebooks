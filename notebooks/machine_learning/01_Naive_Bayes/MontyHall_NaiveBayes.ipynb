{
 "cells": [
  {
   "cell_type": "markdown",
   "metadata": {
    "collapsed": true
   },
   "source": [
    "# Lecture 2: Naive Bayes\n",
    "***\n",
    "\n",
    "<img src=\"files/figs/bayes.jpg\",width=1201,height=50> \n",
    "\n",
    "<!---\n",
    "![my_image](files/figs/bayes.jpg)\n",
    "-->\n"
   ]
  },
  {
   "cell_type": "markdown",
   "metadata": {},
   "source": [
    "<a id='prob1'></a>"
   ]
  },
  {
   "cell_type": "markdown",
   "metadata": {},
   "source": [
    "### Problem 1: Bayes Law and The Monte Hall Problem \n",
    "***\n",
    "\n",
    "\n",
    ">Suppose you're on a game show, and you're given the choice of three doors: Behind one door is a car; behind the others, goats. You pick a door, say No. 1. The host (Monty), who knows what's behind each door, reveals one that has a goat behind it. He then asks if you'd like to change your choice. Is it to your advantage to switch doors? (Here we implilcitly assume you want the car more than a goat)\n",
    "\n",
    "<img src=\"https://cdn-images-1.medium.com/max/1600/1*fSv7k4vXkOYp8RN7lVeKyA.jpeg\",width=500,height=250>"
   ]
  },
  {
   "cell_type": "markdown",
   "metadata": {},
   "source": [
    "**A**: What does your intuition say?  Is it in your best interest to switch, or does it matter?"
   ]
  },
  {
   "cell_type": "markdown",
   "metadata": {},
   "source": [
    "**B**: Using what we've learned about Bayes' rule, let's calculate the probability of winning if you switch or stay. "
   ]
  },
  {
   "cell_type": "code",
   "execution_count": 1,
   "metadata": {},
   "outputs": [],
   "source": [
    "# To begin, define the prior as the probability of the car being behind door i (i=1,2,3), call this \"pi\". \n",
    "# Note that pi is uniformly distributed.\n",
    "p1 = ?\n",
    "p2 = ?\n",
    "p3 = ?\n",
    "\n",
    "# Next, to define the class conditional, we need three pieces of information. Supposing Monty reveals door 3,\n",
    "# we must find:\n",
    "#    probability that Monty reveals door 3 given door 3 wins (call this c3)\n",
    "#    probability that Monty reveals door 3 given door 2 wins (call this c2)\n",
    "#    probability that Monty reveals door 3 given door 1 wins (call this c1)\n",
    "#   \n",
    "# For this, suppose you initially choose door 1.\n",
    "\n",
    "c3 = ?\n",
    "c2 = ?\n",
    "c1 = ?\n",
    "\n",
    "#Now we need find the marginal for the choice of Monty, call this pd3. Hint: use the sum rule of probability and \n",
    "# your previous calculations.\n",
    "\n",
    "pd3 = ?\n"
   ]
  },
  {
   "cell_type": "code",
   "execution_count": 2,
   "metadata": {},
   "outputs": [
    {
     "name": "stdout",
     "output_type": "stream",
     "text": [
      "Door 1: 33.33 %\n",
      "Door 2: 66.67 %\n",
      "Door 3: 0.00 %\n"
     ]
    }
   ],
   "source": [
    "## Express all answers within this cell as a percentage\n",
    "# The probability of winning if you stay with door 1 is:\n",
    "\n",
    "print(\"Door 1: %(switch1).2f %%\" %{\"switch1\":?})\n",
    "\n",
    "# Finally, Bayes' rule tells us the probability of winning if you switch to door 2 is:\n",
    "\n",
    "print(\"Door 2: %(switch2).2f %%\" %{\"switch2\":?})\n",
    "\n",
    "# The probability of winning if you switch to door 3 is:\n",
    "\n",
    "print(\"Door 3: %(switch3).2f %%\" %{\"switch3\":?})"
   ]
  },
  {
   "cell_type": "markdown",
   "metadata": {},
   "source": [
    "### Problem 2: Naive Bayes on Symbols\n",
    "***\n",
    "\n",
    "> This problem was adopted from [Naive Bayes and Text Classification I: Introduction and Theory](https://arxiv.org/abs/1410.5329) by Sebastian Raschka and a script from the CU computer science department."
   ]
  },
  {
   "cell_type": "markdown",
   "metadata": {},
   "source": [
    "Consider the following training set of 12 symbols which have been labeled as either + or -: \n",
    "\n",
    "<br>\n",
    "\n",
    "<img src=\"files/figs/shapes.png?raw=true\"; width=500>\n",
    "\n",
    "<!---\n",
    "![](files/figs/shapes.png?raw=true)\n",
    "-->\n",
    "\n",
    "Answer the following questions: \n",
    "\n",
    "\n",
    "**A**: What are the general features associated with each training example? "
   ]
  },
  {
   "cell_type": "markdown",
   "metadata": {},
   "source": [
    "In the next part, we'll use Naive Bayes to classify the following test example: \n",
    "\n",
    "<img src=\"files/figs/bluesquare.png\"; width=200>\n",
    "\n",
    "OK, so this symbol actually appears in the training set, but let's pretend that it doesn't.  \n",
    "\n",
    "The decision rule can be defined as \n",
    "\n",
    ">Classify ${\\bf x}$ as + if <br>\n",
    ">$p(+ ~|~ {\\bf x} = [blue,~ square]) \\geq p(- ~|~ {\\bf x} = [blue, ~square])$ <br>\n",
    ">else classify sample as -"
   ]
  },
  {
   "cell_type": "markdown",
   "metadata": {},
   "source": [
    "**B**: To begin, let's explore the estimate of an appropriate prior for + and -. We'll define two distributions:<br>\n",
    "For the first, use $$\\hat{p}(+)=\\frac{\\text{# of +}}{\\text{# of classified objects}} \\text{ and } \\hat{p}(-)=\\frac{\\text{# of -}}{\\text{# of classified objects}}$$ <br> \n",
    "For the second, reader's choice. Take anything such that $$\\hat{p}(+)\\ge 0\\text{, }\\hat{p}(-)\\ge 0\\text{, and }\\hat{p}(+)+\\hat{p}(-)=1$$"
   ]
  },
  {
   "cell_type": "code",
   "execution_count": 3,
   "metadata": {},
   "outputs": [],
   "source": [
    "# Distribution 1\n",
    "p1Plus = ?\n",
    "p1Minus = ?\n",
    "# Distribution 2\n",
    "p2Plus = ?\n",
    "p2Minus = ?"
   ]
  },
  {
   "cell_type": "markdown",
   "metadata": {},
   "source": [
    "**C**: Assuming the features are conditionally independent of the class, identify and compute estimates of the class-conditional probabilities required to predict the class of ${\\bf x} = [blue,~square]$?"
   ]
  },
  {
   "cell_type": "code",
   "execution_count": 4,
   "metadata": {},
   "outputs": [],
   "source": [
    "# Class-conditional probabilities \n",
    "pBplus = ?\n",
    "pBminus = ?\n",
    "pSplus = ?\n",
    "pSminus = ?"
   ]
  },
  {
   "cell_type": "markdown",
   "metadata": {},
   "source": [
    "**D**: Using the estimates computed above, compute the **posterior** scores for each label, and find the Naive Bayes prediction of the label for ${\\bf x} = [blue,~square]$. "
   ]
  },
  {
   "cell_type": "code",
   "execution_count": 5,
   "metadata": {},
   "outputs": [
    {
     "name": "stdout",
     "output_type": "stream",
     "text": [
      "\u001b[1mResults under prior 1\u001b[0m\n",
      "Posterior score for + under prior 1 is $ 0.18\n",
      "Posterior score for - under prior 1 is $ 0.15\n",
      "The object is then of class +\n",
      "\u001b[1mResults under prior 2\u001b[0m\n",
      "Posterior score for + under prior 2 is $ 0.03\n",
      "Posterior score for - under prior 2 is $ 0.33\n",
      "The object is then of class -\n"
     ]
    }
   ],
   "source": [
    "#Start a section for the results under prior 1\n",
    "\n",
    "scores1=[(pBplus*pSplus*p1Plus,'+'),(pBminus*pSminus*p1Minus,'-')]\n",
    "class1 = list(max(scores1))\n",
    "\n",
    "#Beginning of results\n",
    "print('\\033[1m'+\"Results under prior 1\" + '\\033[0m')\n",
    "# Posterior score for + under prior 1\n",
    "print(\"Posterior score for + under prior 1 is $ %(postPlus).2f\" %{\"postPlus\":scores1[0][0]})\n",
    "\n",
    "# Posterior score for - under prior 1\n",
    "print(\"Posterior score for - under prior 1 is $ %(postMinus).2f\" %{\"postMinus\":scores1[1][0]})\n",
    "\n",
    "# Classification under prior 1\n",
    "print(\"The object is then of class %s\" %class1[1])\n",
    "\n",
    "\n",
    "\n",
    "\n",
    "#Start a section for the results under prior 2\n",
    "scores2=[(pBplus*pSplus*p2Plus,'+'),(pBminus*pSminus*p2Minus,'-')]\n",
    "class2 = list(max(scores2))\n",
    "\n",
    "#Beginning of results\n",
    "print('\\033[1m'+\"Results under prior 2\" + '\\033[0m')\n",
    "\n",
    "# Posterior score for + under prior 2\n",
    "print(\"Posterior score for + under prior 2 is $ %(postPlus).2f\" %{\"postPlus\":scores2[0][0]})\n",
    "\n",
    "# Posterior score for - under prior 2\n",
    "print(\"Posterior score for - under prior 2 is $ %(postMinus).2f\" %{\"postMinus\":scores2[1][0]})\n",
    "\n",
    "# Classification under prior 2\n",
    "print(\"The object is then of class %s\" %class2[1])"
   ]
  },
  {
   "cell_type": "markdown",
   "metadata": {},
   "source": [
    "<a id='prob1ans'></a>"
   ]
  },
  {
   "cell_type": "markdown",
   "metadata": {},
   "source": [
    "**E**: If you haven't already, compute the class-conditional probabilities scores $\\hat{p}({\\bf x} = [blue,~square] ~|~ +)$ and $\\hat{p}({\\bf x} = [blue,~square] ~|~ -)$ under the Naive Bayes assumption.  How can you reconsile these values with the final prediction that would made? "
   ]
  },
  {
   "cell_type": "markdown",
   "metadata": {},
   "source": [
    "<br><br><br><br>\n",
    "<br><br><br><br>\n",
    "<br><br><br><br>\n",
    "<br><br><br><br>\n",
    "### Helper Functions \n",
    "***"
   ]
  },
  {
   "cell_type": "code",
   "execution_count": 6,
   "metadata": {},
   "outputs": [],
   "source": [
    "from IPython.core.display import HTML\n",
    "HTML(\"\"\"\n",
    "<style>\n",
    ".MathJax nobr>span.math>span{border-left-width:0 !important};\n",
    "</style>\n",
    "\"\"\")\n",
    "\n",
    "from IPython.display import Image"
   ]
  }
 ],
 "metadata": {
  "anaconda-cloud": {},
  "kernelspec": {
   "display_name": "Python 3",
   "language": "python",
   "name": "python3"
  },
  "language_info": {
   "codemirror_mode": {
    "name": "ipython",
    "version": 3
   },
   "file_extension": ".py",
   "mimetype": "text/x-python",
   "name": "python",
   "nbconvert_exporter": "python",
   "pygments_lexer": "ipython3",
   "version": "3.7.0"
  }
 },
 "nbformat": 4,
 "nbformat_minor": 1
}
